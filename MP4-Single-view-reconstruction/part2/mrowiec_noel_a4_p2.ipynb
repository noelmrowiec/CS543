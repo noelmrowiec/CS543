{
 "cells": [
  {
   "cell_type": "markdown",
   "metadata": {},
   "source": [
    "# Part 3: Single-View Geometry\n",
    "\n",
    "## Usage\n",
    "This code snippet provides an overall code structure and some interactive plot interfaces for the *Single-View Geometry* section of Assignment 3. In [main function](#Main-function), we outline the required functionalities step by step. Some of the functions which involves interactive plots are already provided, but [the rest](#Your-implementation) are left for you to implement.\n",
    "\n",
    "## Package installation\n",
    "- In this code, we use `tkinter` package. Installation instruction can be found [here](https://anaconda.org/anaconda/tk)."
   ]
  },
  {
   "cell_type": "markdown",
   "metadata": {},
   "source": [
    "# Common imports"
   ]
  },
  {
   "cell_type": "code",
   "execution_count": 1,
   "metadata": {},
   "outputs": [],
   "source": [
    "%matplotlib tk\n",
    "import matplotlib.pyplot as plt\n",
    "import numpy as np\n",
    "from sympy import *\n",
    "from sympy import solve\n",
    "from PIL import Image"
   ]
  },
  {
   "cell_type": "markdown",
   "metadata": {},
   "source": [
    "# Provided functions"
   ]
  },
  {
   "cell_type": "code",
   "execution_count": 2,
   "metadata": {},
   "outputs": [],
   "source": [
    "def get_input_lines(im, min_lines=3):\n",
    "    \"\"\"\n",
    "    Allows user to input line segments; computes centers and directions.\n",
    "    Inputs:\n",
    "        im: np.ndarray of shape (height, width, 3)\n",
    "        min_lines: minimum number of lines required\n",
    "    Returns:\n",
    "        n: number of lines from input\n",
    "        lines: np.ndarray of shape (3, n)\n",
    "            where each column denotes the parameters of the line equation\n",
    "        centers: np.ndarray of shape (3, n)\n",
    "            where each column denotes the homogeneous coordinates of the centers\n",
    "    \"\"\"\n",
    "    n = 0\n",
    "    lines = np.zeros((3, 0))\n",
    "    centers = np.zeros((3, 0))\n",
    "\n",
    "    plt.figure()\n",
    "    plt.imshow(im)\n",
    "    plt.show()\n",
    "    print('Set at least %d lines to compute vanishing point' % min_lines)\n",
    "    while True:\n",
    "        print('Click the two endpoints, use the right key to undo, and use the middle key to stop input')\n",
    "        clicked = plt.ginput(2, timeout=0, show_clicks=True)\n",
    "        if not clicked or len(clicked) < 2:\n",
    "            if n < min_lines:\n",
    "                print('Need at least %d lines, you have %d now' % (min_lines, n))\n",
    "                continue\n",
    "            else:\n",
    "                # Stop getting lines if number of lines is enough\n",
    "                break\n",
    "\n",
    "        # Unpack user inputs and save as homogeneous coordinates\n",
    "        pt1 = np.array([clicked[0][0], clicked[0][1], 1])\n",
    "        pt2 = np.array([clicked[1][0], clicked[1][1], 1])\n",
    "        # Get line equation using cross product\n",
    "        # Line equation: line[0] * x + line[1] * y + line[2] = 0\n",
    "        line = np.cross(pt1, pt2)\n",
    "        lines = np.append(lines, line.reshape((3, 1)), axis=1)\n",
    "        # Get center coordinate of the line segment\n",
    "        center = (pt1 + pt2) / 2\n",
    "        centers = np.append(centers, center.reshape((3, 1)), axis=1)\n",
    "\n",
    "        # Plot line segment\n",
    "        plt.plot([pt1[0], pt2[0]], [pt1[1], pt2[1]], color='b')\n",
    "\n",
    "        n += 1\n",
    "\n",
    "    return n, lines, centers"
   ]
  },
  {
   "cell_type": "code",
   "execution_count": 3,
   "metadata": {},
   "outputs": [],
   "source": [
    "def plot_lines_and_vp(im, lines, vp):\n",
    "    \"\"\"\n",
    "    Plots user-input lines and the calculated vanishing point.\n",
    "    Inputs:\n",
    "        im: np.ndarray of shape (height, width, 3)\n",
    "        lines: np.ndarray of shape (3, n)\n",
    "            where each column denotes the parameters of the line equation\n",
    "        vp: np.ndarray of shape (3, )\n",
    "    \"\"\"\n",
    "    bx1 = min(1, vp[0] / vp[2]) - 10\n",
    "    bx2 = max(im.shape[1], vp[0] / vp[2]) + 10\n",
    "    by1 = min(1, vp[1] / vp[2]) - 10\n",
    "    by2 = max(im.shape[0], vp[1] / vp[2]) + 10\n",
    "\n",
    "    plt.figure()\n",
    "    plt.imshow(im)\n",
    "    for i in range(lines.shape[1]):\n",
    "        if lines[0, i] < lines[1, i]:\n",
    "            pt1 = np.cross(np.array([1, 0, -bx1]), lines[:, i])\n",
    "            pt2 = np.cross(np.array([1, 0, -bx2]), lines[:, i])\n",
    "        else:\n",
    "            pt1 = np.cross(np.array([0, 1, -by1]), lines[:, i])\n",
    "            pt2 = np.cross(np.array([0, 1, -by2]), lines[:, i])\n",
    "        pt1 = pt1 / pt1[2]\n",
    "        pt2 = pt2 / pt2[2]\n",
    "        plt.plot([pt1[0], pt2[0]], [pt1[1], pt2[1]], 'g')\n",
    "\n",
    "    plt.plot(vp[0] / vp[2], vp[1] / vp[2], 'ro')\n",
    "    plt.show()"
   ]
  },
  {
   "cell_type": "code",
   "execution_count": 4,
   "metadata": {},
   "outputs": [],
   "source": [
    "def get_top_and_bottom_coordinates(im, obj):\n",
    "    \"\"\"\n",
    "    For a specific object, prompts user to record the top coordinate and the bottom coordinate in the image.\n",
    "    Inputs:\n",
    "        im: np.ndarray of shape (height, width, 3)\n",
    "        obj: string, object name\n",
    "    Returns:\n",
    "        coord: np.ndarray of shape (3, 2)\n",
    "            where coord[:, 0] is the homogeneous coordinate of the top of the object and coord[:, 1] is the homogeneous\n",
    "            coordinate of the bottom\n",
    "    \"\"\"\n",
    "    plt.figure()\n",
    "    plt.imshow(im)\n",
    "\n",
    "    print('Click on the top coordinate of %s' % obj)\n",
    "    clicked = plt.ginput(1, timeout=0, show_clicks=True)\n",
    "    x1, y1 = clicked[0]\n",
    "    # Uncomment this line to enable a vertical line to help align the two coordinates\n",
    "    plt.plot([x1, x1], [0, im.shape[0]], 'b')\n",
    "    print('Click on the bottom coordinate of %s' % obj)\n",
    "    clicked = plt.ginput(1, timeout=0, show_clicks=True)\n",
    "    x2, y2 = clicked[0]\n",
    "\n",
    "    plt.plot([x1, x2], [y1, y2], 'b')\n",
    "\n",
    "    return np.array([[x1, x2], [y1, y2], [1, 1]])"
   ]
  },
  {
   "cell_type": "markdown",
   "metadata": {},
   "source": [
    "# Your implementation"
   ]
  },
  {
   "cell_type": "code",
   "execution_count": 5,
   "metadata": {},
   "outputs": [],
   "source": [
    "def get_vanishing_point(lines):\n",
    "    \"\"\"\n",
    "    Solves for the vanishing point using the user-input lines.\n",
    "    \"\"\"\n",
    "    intersect1 = np.cross(lines[:, 0], lines[:, 1])\n",
    "    intersect2 = np.cross(lines[:, 1], lines[:, 2])\n",
    "    intersect3 = np.cross(lines[:, 0], lines[:, 2])\n",
    "\n",
    "    # convert to homogeneous coordinate\n",
    "    intersect1 /= intersect1[-1]\n",
    "    intersect2 /= intersect2[-1]\n",
    "    intersect3 /= intersect3[-1]\n",
    "    \n",
    "    intersections = np.vstack((intersect1, intersect2, intersect3))\n",
    "    vp = np.mean(intersections, axis=0)\n",
    "    print('vanishing point:', vp)\n",
    "    return vp"
   ]
  },
  {
   "cell_type": "code",
   "execution_count": 6,
   "metadata": {},
   "outputs": [],
   "source": [
    "def get_horizon_line(vpts):\n",
    "    \"\"\"\n",
    "    Calculates the ground horizon line.\n",
    "    \"\"\"\n",
    "    horizon_line = np.cross(vpts[:, 0], vpts[:, 1])\n",
    "    scale = np.linalg.norm([horizon_line[0], horizon_line[1]])\n",
    "    horizon_line = horizon_line/scale\n",
    "    return horizon_line"
   ]
  },
  {
   "cell_type": "code",
   "execution_count": 7,
   "metadata": {},
   "outputs": [],
   "source": [
    "def plot_horizon_line(horizon_line,im):\n",
    "    \"\"\"\n",
    "    Plots the horizon line.\n",
    "    \"\"\"\n",
    "    col = im.shape[1]\n",
    "    x_array = np.arange(0, col, 1)\n",
    "    y_array = horizon_line[0]*x_array+horizon_line[2] / (-horizon_line[1])\n",
    "    plt.figure()\n",
    "    plt.imshow(im)\n",
    "    plt.plot(x_array, y_array, 'g')"
   ]
  },
  {
   "cell_type": "code",
   "execution_count": 8,
   "metadata": {},
   "outputs": [],
   "source": [
    "def get_camera_parameters(vpts):\n",
    "    \"\"\"\n",
    "    Computes the camera parameters. Hint: The SymPy package is suitable for this.\n",
    "    \"\"\"\n",
    "    vpt0 = vpts[:, 0][:, np.newaxis] \n",
    "    vpt1 = vpts[:, 1][:, np.newaxis]\n",
    "    vpt2 = vpts[:, 2][:, np.newaxis]\n",
    "    \n",
    "    #focal length and principal point \n",
    "    focal_len, x_p, y_p= symbols('focal_len, x_p, y_p')\n",
    "    CAM_MAT_T = Matrix([[1/focal_len, 0, 0], [0, 1/focal_len, 0], [-x_p/focal_len, -y_p/focal_len, 1]])\n",
    "    CAM_MAT = Matrix([[1/focal_len, 0, -x_p/focal_len], [0, 1/focal_len, -y_p/focal_len], [0, 0, 1]])\n",
    "     \n",
    "    eq1 = vpt0.T * CAM_MAT_T * CAM_MAT * vpt1\n",
    "    eq2 = vpt0.T * CAM_MAT_T * CAM_MAT * vpt2\n",
    "    eq3 = vpt1.T * CAM_MAT_T * CAM_MAT * vpt2\n",
    "\n",
    "    focal_len, x_p, y_p = solve([eq1[0], eq2[0], eq3[0]], (focal_len, x_p, y_p))[0]\n",
    "\n",
    "    return abs(focal_len), x_p, y_p"
   ]
  },
  {
   "cell_type": "code",
   "execution_count": 9,
   "metadata": {},
   "outputs": [],
   "source": [
    "def get_rotation_matrix(f, u, v, vpts):\n",
    "    \"\"\"\n",
    "    Computes the rotation matrix using the camera parameters.\n",
    "    \"\"\"\n",
    "    vpt0 = vpts[:, 0][:, np.newaxis] \n",
    "    vpt1 = vpts[:, 1][:, np.newaxis]\n",
    "    vpt2 = vpts[:, 2][:, np.newaxis]\n",
    "\n",
    "    K = np.array([[f, 0, u], [0, f, v], [0, 0, 1]]).astype(np.float64)\n",
    "    K_inv = np.linalg.inv(K)\n",
    "\n",
    "    r1 = K_inv.dot(vpt1)\n",
    "    r2 = K_inv.dot(vpt2)\n",
    "    r3 = K_inv.dot(vpt0)\n",
    "\n",
    "    \n",
    "    r1 = r1 / np.linalg.norm(r1)\n",
    "    r2 = r2 / np.linalg.norm(r2)\n",
    "    r3 = r3 / np.linalg.norm(r3)\n",
    "\n",
    "    R = np.concatenate((r1, r2, r3), axis=1)\n",
    "    return R"
   ]
  },
  {
   "cell_type": "code",
   "execution_count": 10,
   "metadata": {},
   "outputs": [],
   "source": [
    "def estimate_height(coords, obj, person_coords, horizon_line, vpts, im, person_height):\n",
    "    \"\"\"\n",
    "    Estimates height for a specific object using the recorded coordinates. You might need to plot additional images here for\n",
    "    your report.\n",
    "    \"\"\"\n",
    "    horizon_line = horizon_line/np.linalg.norm([horizon_line[0], horizon_line[1]])\n",
    "\n",
    "    person = person_coords\n",
    "    person_top = person[:,0]\n",
    "    person_bottom = person[:,1]\n",
    "\n",
    "    object = coords[obj]\n",
    "    object_top = object[:,0]\n",
    "    object_bottom = object[:,1]\n",
    "\n",
    "    bottom_line = np.cross(person_bottom, object_bottom)\n",
    "\n",
    "    vanishing_point = np.cross(bottom_line, horizon_line)\n",
    "    vanishing_point = vanishing_point/vanishing_point[-1]\n",
    "\n",
    "    object_line = np.cross(object_bottom, object_top)\n",
    "    person_vanish = np.cross(person_top, vanishing_point)\n",
    "    target_point = np.cross(person_vanish, object_line)\n",
    "    target_point = target_point/target_point[-1]\n",
    "\n",
    "    infinite_vpt = vpts[:,2]\n",
    "    p1_p3 = np.linalg.norm(object_bottom-object_top)\n",
    "    p2_p4 = np.linalg.norm(infinite_vpt-target_point)\n",
    "    p3_p4 = np.linalg.norm(object_top-infinite_vpt)\n",
    "    p1_p2 = np.linalg.norm(object_bottom-target_point)\n",
    "    ratio = p1_p3*p2_p4 / (p1_p2*p3_p4)\n",
    "    \n",
    "    plt.figure()\n",
    "    plt.imshow(im)\n",
    "    col = im.shape[1]\n",
    "    x_array = np.arange(0, col, 1)\n",
    "    y_array = horizon_line[0]*x_array+horizon_line[2] / (-horizon_line[1])\n",
    "    plt.plot(x_array, y_array, 'g')\n",
    "    plt.plot([vanishing_point[0], person_bottom[0]], [vanishing_point[1], person_bottom[1]], 'r')\n",
    "    plt.plot([vanishing_point[0], target_point[0]], [vanishing_point[1], target_point[1]], 'r')\n",
    "    plt.plot([vanishing_point[0], object_top[0]], [vanishing_point[1], object_top[1]], 'r')\n",
    "    plt.plot([person_top[0], person_bottom[0]], [person_top[1], person_bottom[1]], 'b')\n",
    "    plt.plot([object_bottom[0], object_top[0]], [object_bottom[1], object_top[1]], 'b')\n",
    "    plt.plot(vanishing_point[0], vanishing_point[1], 'go')\n",
    "    plt.show()\n",
    "    \n",
    "    obj_height = ratio * person_height\n",
    "    return obj_height"
   ]
  },
  {
   "cell_type": "markdown",
   "metadata": {},
   "source": [
    "# Main function"
   ]
  },
  {
   "cell_type": "code",
   "execution_count": 11,
   "metadata": {},
   "outputs": [
    {
     "name": "stdout",
     "output_type": "stream",
     "text": [
      "Getting vanishing point 0\n",
      "Set at least 3 lines to compute vanishing point\n",
      "Click the two endpoints, use the right key to undo, and use the middle key to stop input\n",
      "Click the two endpoints, use the right key to undo, and use the middle key to stop input\n",
      "Click the two endpoints, use the right key to undo, and use the middle key to stop input\n",
      "Click the two endpoints, use the right key to undo, and use the middle key to stop input\n",
      "number of lines: 3\n",
      "lines values:  [[-5.83520470e+01 -1.39201269e+02 -2.57305650e+02]\n",
      " [-4.02840035e+02 -4.06355219e+02 -4.74014187e+02]\n",
      " [ 3.24881974e+05  3.17564375e+05  3.57842483e+05]]\n",
      "vanishing point: [-129.54240386  825.66062852    1.        ]\n",
      "Getting vanishing point 1\n",
      "Set at least 3 lines to compute vanishing point\n",
      "Click the two endpoints, use the right key to undo, and use the middle key to stop input\n",
      "Click the two endpoints, use the right key to undo, and use the middle key to stop input\n",
      "Click the two endpoints, use the right key to undo, and use the middle key to stop input\n",
      "Click the two endpoints, use the right key to undo, and use the middle key to stop input\n",
      "number of lines: 3\n",
      "lines values:  [[-2.28920511e+02 -9.06158141e+01 -1.64844286e+01]\n",
      " [ 1.06374531e+03  6.53492148e+02  5.89165690e+02]\n",
      " [-1.55933544e+05 -2.41375030e+05 -4.15842470e+05]]\n",
      "vanishing point: [2.97910163e+03 7.84403849e+02 1.00000000e+00]\n",
      "Getting vanishing point 2\n",
      "Set at least 3 lines to compute vanishing point\n",
      "Click the two endpoints, use the right key to undo, and use the middle key to stop input\n",
      "Click the two endpoints, use the right key to undo, and use the middle key to stop input\n",
      "Click the two endpoints, use the right key to undo, and use the middle key to stop input\n",
      "Click the two endpoints, use the right key to undo, and use the middle key to stop input\n",
      "number of lines: 3\n",
      "lines values:  [[ 9.35997480e+01  9.35997480e+01  9.42542917e+01]\n",
      " [ 1.30908738e+00  6.54543692e-01  0.00000000e+00]\n",
      " [-5.85393429e+04 -5.99616808e+04 -6.18758339e+04]]\n",
      "vanishing point: [ 6.56256396e+02 -2.22047648e+03  1.00000000e+00]\n"
     ]
    }
   ],
   "source": [
    "im = np.asarray(Image.open('images/ECEB.jpg'))\n",
    "\n",
    "# Part 1\n",
    "# Get vanishing points for each of the directions\n",
    "num_vpts = 3\n",
    "vpts = np.zeros((3, num_vpts))\n",
    "for i in range(num_vpts):\n",
    "    print('Getting vanishing point %d' % i)\n",
    "    # Get at least three lines from user input\n",
    "    n, lines, centers = get_input_lines(im)\n",
    "    print(\"number of lines:\", n)\n",
    "    print(\"lines values: \", lines)\n",
    "\n",
    "    # <YOUR IMPLEMENTATION> Solve for vanishing point\n",
    "    vpts[:, i] = get_vanishing_point(lines)\n",
    "    # Plot the lines and the vanishing point\n",
    "    plot_lines_and_vp(im, lines, vpts[:, i])\n",
    "\n",
    "# <YOUR IMPLEMENTATION> Get the ground horizon line\n",
    "horizon_line = get_horizon_line(vpts)\n",
    "# <YOUR IMPLEMENTATION> Plot the ground horizon line\n",
    "plot_horizon_line(horizon_line, im)\n",
    "\n",
    "\n",
    "\n"
   ]
  },
  {
   "cell_type": "code",
   "execution_count": 12,
   "metadata": {},
   "outputs": [
    {
     "name": "stdout",
     "output_type": "stream",
     "text": [
      "part 1.b\n",
      "above\n"
     ]
    }
   ],
   "source": [
    "#print stuff\n",
    "print(\"part 1.b\")\n",
    "print(\"above\")\n",
    "\n"
   ]
  },
  {
   "cell_type": "code",
   "execution_count": 13,
   "metadata": {},
   "outputs": [
    {
     "name": "stdout",
     "output_type": "stream",
     "text": [
      "part 1.c\n",
      "horizon_line:  [ 1.32704632e-02  9.99911944e-01 -8.23868836e+02]\n",
      "horizon line normalized (horizon_line[0])**2 + (horizon_line[1])**2 = 0.9999999999999999\n"
     ]
    }
   ],
   "source": [
    "print(\"part 1.c\")\n",
    "print(\"horizon_line: \", horizon_line)\n",
    "print(f\"horizon line normalized (horizon_line[0])**2 + (horizon_line[1])**2 = {(horizon_line[0])**2 + (horizon_line[1])**2}\")"
   ]
  },
  {
   "cell_type": "code",
   "execution_count": 14,
   "metadata": {},
   "outputs": [
    {
     "name": "stdout",
     "output_type": "stream",
     "text": [
      "part 2\n",
      "focal len=1224.70493169743, principal point = (688.293191666695, 193.453913482437)\n"
     ]
    }
   ],
   "source": [
    "# Part 2\n",
    "# <YOUR IMPLEMENTATION> Solve for the camera parameters (f, u, v)\n",
    "f, u, v = get_camera_parameters(vpts)\n",
    "print(\"part 2\")\n",
    "print(f\"focal len={f}, principal point = ({u}, {v})\")"
   ]
  },
  {
   "cell_type": "code",
   "execution_count": 15,
   "metadata": {},
   "outputs": [
    {
     "name": "stdout",
     "output_type": "stream",
     "text": [
      "part 3\n",
      "Rotation matrix =\n",
      "[[ 0.85991118 -0.01183468 -0.51030648]\n",
      " [ 0.22182756 -0.8917279   0.39447926]\n",
      " [ 0.45972306  0.45241717  0.76418153]]\n"
     ]
    }
   ],
   "source": [
    "# Part 3\n",
    "# <YOUR IMPLEMENTATION> Solve for the rotation matrix\n",
    "R = get_rotation_matrix(f, u, v, vpts)\n",
    "print(\"part 3\")\n",
    "print(\"Rotation matrix =\")\n",
    "print(R)"
   ]
  },
  {
   "cell_type": "code",
   "execution_count": 16,
   "metadata": {},
   "outputs": [],
   "source": [
    "# Part 4\n",
    "# Record image coordinates for each object and store in map\n",
    "objects = ('person', 'leftside', 'rightside', 'door lamp post', 'right lamp post')\n",
    "coords = dict()\n",
    "# for obj in objects:\n",
    "#     coords[obj] = get_top_and_bottom_coordinates(im, obj)\n",
    "\n",
    "\n",
    "# since the top is specificed the instructions, it is too hard to exactly click, \n",
    "# so coordinates are provided (x1 top and X2 bottom)\n",
    "x1, x2, y1, y2 = 1319, 1332, 803, 988\n",
    "coords['person'] = np.array(([[x1, x2], [y1, y2], [1, 1]]))\n",
    "\n",
    "x1, x2, y1, y2 = 371, 358, 315, 867\n",
    "coords['leftside'] = np.array(([[x1, x2], [y1, y2], [1, 1]]))\n",
    "\n",
    "x1, x2, y1, y2 = 1870, 1901, 281, 813\n",
    "coords['rightside'] = np.array(([[x1, x2], [y1, y2], [1, 1]]))\n",
    "\n",
    "x1, x2, y1, y2 = 1525, 1535, 679, 850\n",
    "coords['door lamp post'] = np.array(([[x1, x2], [y1, y2], [1, 1]]))\n",
    "\n",
    "x1, x2, y1, y2 = 1928, 1935, 704, 830\n",
    "coords['right lamp post'] = np.array(([[x1, x2], [y1, y2], [1, 1]]))\n"
   ]
  },
  {
   "cell_type": "code",
   "execution_count": 17,
   "metadata": {},
   "outputs": [
    {
     "name": "stdout",
     "output_type": "stream",
     "text": [
      "part 4\n",
      "Estimating height of leftside\n",
      "Height of leftside = 74.53754455605917 feet\n",
      "Estimating height of rightside\n",
      "Height of rightside = 236.2277513208527 feet\n",
      "Estimating height of door lamp post\n",
      "Height of door lamp post = 20.692143698792133 feet\n",
      "Estimating height of right lamp post\n",
      "Height of right lamp post = 22.03910881554558 feet\n",
      "Average height of the lamp posts = 21.365626257168856\n"
     ]
    }
   ],
   "source": [
    "# <YOUR IMPLEMENTATION> Estimate heights\n",
    "# 5.5 foot person\n",
    "print(\"part 4\")\n",
    "heights = dict()\n",
    "for obj in objects[1:]:\n",
    "    print('Estimating height of %s' % obj)\n",
    "    height = estimate_height(coords, obj, coords['person'], horizon_line, vpts, im, person_height=5.5)\n",
    "    heights[obj] = height\n",
    "    print(f\"Height of {obj} = {height} feet\")\n",
    "\n",
    "avg_lamp_height = (heights['door lamp post'] + heights['right lamp post']) / 2\n",
    "print(f\"Average height of the lamp posts = {avg_lamp_height}\")"
   ]
  },
  {
   "cell_type": "code",
   "execution_count": 18,
   "metadata": {},
   "outputs": [
    {
     "name": "stdout",
     "output_type": "stream",
     "text": [
      "part 5\n",
      "Estimating height of leftside\n",
      "Height of leftside = 81.31368497024638 feet\n",
      "Estimating height of rightside\n",
      "Height of rightside = 257.7030014409302 feet\n",
      "Estimating height of door lamp post\n",
      "Height of door lamp post = 22.5732476714096 feet\n",
      "Estimating height of right lamp post\n",
      "Height of right lamp post = 24.04266416241336 feet\n",
      "Average height of the lamp posts = 23.30795591691148\n"
     ]
    }
   ],
   "source": [
    "# 6.0 foot person\n",
    "print(\"part 5\")\n",
    "heights = dict()\n",
    "for obj in objects[1:]:\n",
    "    print('Estimating height of %s' % obj)\n",
    "    height = estimate_height(coords, obj, coords['person'], horizon_line, vpts, im, person_height=6.0)\n",
    "    heights[obj] = height\n",
    "    print(f\"Height of {obj} = {height} feet\")\n",
    "\n",
    "avg_lamp_height = (heights['door lamp post'] + heights['right lamp post']) / 2\n",
    "print(f\"Average height of the lamp posts = {avg_lamp_height}\")"
   ]
  },
  {
   "cell_type": "markdown",
   "metadata": {},
   "source": [
    "Extra credit"
   ]
  },
  {
   "cell_type": "code",
   "execution_count": 19,
   "metadata": {},
   "outputs": [],
   "source": [
    "# coordinates from image (x1 top and X2 bottom)\n",
    "objects_EC = ('person', 'Sculpture', 'Fire hydrant', 'Fur tree', 'Wall')\n",
    "coords_EC = dict()\n",
    "\n",
    "x1, x2, y1, y2 = 1319, 1332, 803, 988\n",
    "coords_EC['person'] = np.array(([[x1, x2], [y1, y2], [1, 1]]))\n",
    "\n",
    "x1, x2, y1, y2 = 1508, 1512, 697, 834\n",
    "coords_EC['Sculpture'] = np.array(([[x1, x2], [y1, y2], [1, 1]]))\n",
    "\n",
    "x1, x2, y1, y2 = 46, 45, 873, 907\n",
    "coords_EC['Fire hydrant'] = np.array(([[x1, x2], [y1, y2], [1, 1]]))\n",
    "\n",
    "x1, x2, y1, y2 = 1876, 1883, 713, 826\n",
    "coords_EC['Fur tree'] = np.array(([[x1, x2], [y1, y2], [1, 1]]))\n",
    "\n",
    "x1, x2, y1, y2 = 734, 733, 913, 1016\n",
    "coords_EC['Wall'] = np.array(([[x1, x2], [y1, y2], [1, 1]]))"
   ]
  },
  {
   "cell_type": "code",
   "execution_count": 20,
   "metadata": {},
   "outputs": [
    {
     "name": "stdout",
     "output_type": "stream",
     "text": [
      "Extra credit\n",
      "Estimating height of Sculpture\n",
      "Height of Sculpture = 25.405953523167295 feet\n",
      "Estimating height of Fire hydrant\n",
      "Height of Fire hydrant = 2.1575130914745078 feet\n",
      "Estimating height of Fur tree\n",
      "Height of Fur tree = 23.145805072327903 feet\n",
      "Estimating height of Wall\n",
      "Height of Wall = 2.664960654347753 feet\n"
     ]
    }
   ],
   "source": [
    "# <YOUR IMPLEMENTATION> Estimate heights\n",
    "# 5.5 foot person\n",
    "print(\"Extra credit\")\n",
    "heights = dict()\n",
    "for obj in objects_EC[1:]:\n",
    "    print('Estimating height of %s' % obj)\n",
    "    height = estimate_height(coords_EC, obj, coords_EC['person'], horizon_line, vpts, im, person_height=5.5)\n",
    "    heights[obj] = height\n",
    "    print(f\"Height of {obj} = {height} feet\")\n"
   ]
  }
 ],
 "metadata": {
  "kernelspec": {
   "display_name": "CS543",
   "language": "python",
   "name": "python3"
  },
  "language_info": {
   "codemirror_mode": {
    "name": "ipython",
    "version": 3
   },
   "file_extension": ".py",
   "mimetype": "text/x-python",
   "name": "python",
   "nbconvert_exporter": "python",
   "pygments_lexer": "ipython3",
   "version": "3.12.3"
  }
 },
 "nbformat": 4,
 "nbformat_minor": 2
}
