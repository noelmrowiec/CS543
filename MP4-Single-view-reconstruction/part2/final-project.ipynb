{
 "cells": [
  {
   "cell_type": "markdown",
   "metadata": {},
   "source": [
    "CS 543 Final Project\n",
    "Implementing \"An Approach for Enhancement of Low Contrast Gray Scale Image Using Fuzzy Logic and Sigmoid Function\"\n",
    "https://ieeexplore-ieee-org.proxy2.library.illinois.edu/document/10532836"
   ]
  },
  {
   "cell_type": "code",
   "execution_count": null,
   "metadata": {},
   "outputs": [],
   "source": [
    "#imports\n",
    "import cv2"
   ]
  },
  {
   "cell_type": "code",
   "execution_count": null,
   "metadata": {},
   "outputs": [],
   "source": [
    "# Perform fuzzification of the input image\n",
    "\n",
    "image = cv2.imread('path_to_image.jpg')"
   ]
  }
 ],
 "metadata": {
  "language_info": {
   "name": "python"
  }
 },
 "nbformat": 4,
 "nbformat_minor": 2
}
