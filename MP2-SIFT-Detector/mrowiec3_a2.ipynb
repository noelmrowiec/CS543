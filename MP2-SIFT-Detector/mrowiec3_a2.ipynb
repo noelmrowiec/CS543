{
 "cells": [
  {
   "cell_type": "markdown",
   "metadata": {},
   "source": [
    "# Assignment 2: Scale-Space Blob Detection"
   ]
  },
  {
   "cell_type": "markdown",
   "metadata": {},
   "source": [
    "### The goal of this assignment is to implement a Laplacian blob detector"
   ]
  },
  {
   "cell_type": "markdown",
   "metadata": {},
   "source": [
    "Noel Mrowiec\n",
    "10/1/2024\n",
    "mrowiec3"
   ]
  },
  {
   "cell_type": "code",
   "execution_count": 2,
   "metadata": {},
   "outputs": [],
   "source": [
    "# Libraries you will find useful\n",
    "import numpy as np\n",
    "import scipy \n",
    "import skimage\n",
    "import matplotlib.pyplot as plt\n",
    "import os\n",
    "from PIL import Image, ImageOps "
   ]
  },
  {
   "cell_type": "code",
   "execution_count": 3,
   "metadata": {},
   "outputs": [],
   "source": [
    "# Function to globally normalize a 2D array to the range [0, 1] \n",
    "def normalize(data):\n",
    "    return (data - data.min()) / (data.max() - data.min())"
   ]
  },
  {
   "cell_type": "code",
   "execution_count": 5,
   "metadata": {},
   "outputs": [
    {
     "name": "stdout",
     "output_type": "stream",
     "text": [
      "Minimum value: 0.0\n",
      "Maximum value: 1.0\n",
      "Minimum value: 0.0\n",
      "Maximum value: 1.0\n",
      "Minimum value: 0.0\n",
      "Maximum value: 1.0\n",
      "Minimum value: 0.0\n",
      "Maximum value: 1.0\n",
      "Loaded 4 images\n"
     ]
    }
   ],
   "source": [
    "\n",
    "# load each image \n",
    "dir_path = \"images/\"\n",
    "images = []     #color images\n",
    "filenames = []\n",
    "for filename in os.listdir(dir_path):\n",
    "    if filename.endswith('.jpg'):\n",
    "        filenames.append(filename)\n",
    "        img_path = os.path.join(dir_path, filename)\n",
    "        img = Image.open(img_path)\n",
    "        #img.show()  # This will display the image\n",
    "        \n",
    "        # convert images to grayscale\n",
    "        img_gs = ImageOps.grayscale(img) \n",
    "        #img_gs.show()\n",
    "        img_gs = np.array(img_gs).astype(float)\n",
    "        img_gs = normalize(img_gs)\n",
    "        images.append(img_gs)\n",
    "        \n",
    "\n",
    "print(f\"Loaded {len(images)} images\")"
   ]
  },
  {
   "cell_type": "code",
   "execution_count": 13,
   "metadata": {},
   "outputs": [
    {
     "name": "stderr",
     "output_type": "stream",
     "text": [
      "/tmp/ipykernel_39506/805945956.py:2: DeprecationWarning: Please import `gaussian_laplace` from the `scipy.ndimage` namespace; the `scipy.ndimage.filters` namespace is deprecated and will be removed in SciPy 2.0.0.\n",
      "  from scipy.ndimage.filters import gaussian_laplace\n"
     ]
    }
   ],
   "source": [
    "\n",
    "# for applying the Laplacian filter\n",
    "from scipy.ndimage.filters import gaussian_laplace\n",
    "def lapacian_gaussian(image, N = 10):\n",
    "    scale_space = np.empty((image.shape[0],image.shape[1],N))\n",
    "\n",
    "    sigma_0 = 1\n",
    "    for k in range(N):\n",
    "        sigma = sigma_0 * (2 ** k)\n",
    "\n",
    "        lap_gaus = gaussian_laplace(image, sigma, mode='nearest') \n",
    "        scale_norm_LoG = (sigma ** 2) * lap_gaus                                                      #scale normalized\n",
    "        scale_space[:,:,k] = scale_norm_LoG\n",
    "\n",
    "    return scale_space"
   ]
  },
  {
   "cell_type": "code",
   "execution_count": 11,
   "metadata": {},
   "outputs": [
    {
     "name": "stderr",
     "output_type": "stream",
     "text": [
      "/tmp/ipykernel_39506/961410612.py:1: DeprecationWarning: Please import `rank_filter` from the `scipy.ndimage` namespace; the `scipy.ndimage.filters` namespace is deprecated and will be removed in SciPy 2.0.0.\n",
      "  from scipy.ndimage.filters import rank_filter\n"
     ]
    }
   ],
   "source": [
    "from scipy.ndimage.filters import rank_filter\n",
    "\n",
    "def non_max_suppression(array):\n",
    "    local_max = rank_filter(array, rank=-1, size=3)\n",
    "\n",
    "    # Only keep the pixels that are local maxima\n",
    "    result = np.where(array == local_max, array, 0)\n",
    "    return result"
   ]
  },
  {
   "cell_type": "code",
   "execution_count": null,
   "metadata": {},
   "outputs": [],
   "source": [
    "def get_xy_and_radius(scale_space):\n",
    "    "
   ]
  },
  {
   "cell_type": "code",
   "execution_count": 12,
   "metadata": {},
   "outputs": [
    {
     "data": {
      "text/plain": [
       "array([[0.        , 0.96673119, 0.        , 0.        , 0.        ,\n",
       "        0.        , 0.        , 0.        , 0.74677491],\n",
       "       [0.        , 0.        , 0.        , 0.72175871, 0.        ,\n",
       "        0.        , 0.        , 0.        , 0.        ],\n",
       "       [0.        , 0.        , 0.        , 0.        , 0.        ,\n",
       "        0.        , 0.        , 0.93132277, 0.        ],\n",
       "       [0.70906027, 0.        , 0.64544579, 0.        , 0.        ,\n",
       "        0.87428042, 0.        , 0.        , 0.        ],\n",
       "       [0.        , 0.        , 0.        , 0.        , 0.        ,\n",
       "        0.        , 0.        , 0.        , 0.        ],\n",
       "       [0.        , 0.        , 0.        , 0.        , 0.81650562,\n",
       "        0.        , 0.97485336, 0.        , 0.        ],\n",
       "       [0.        , 0.        , 0.        , 0.        , 0.        ,\n",
       "        0.        , 0.        , 0.        , 0.        ],\n",
       "       [0.        , 0.97391024, 0.        , 0.        , 0.        ,\n",
       "        0.        , 0.        , 0.        , 0.81489943],\n",
       "       [0.        , 0.        , 0.        , 0.        , 0.92491563,\n",
       "        0.        , 0.5994573 , 0.        , 0.        ]])"
      ]
     },
     "execution_count": 12,
     "metadata": {},
     "output_type": "execute_result"
    }
   ],
   "source": [
    "N = 10\n",
    "\n",
    "for image in images:\n",
    "    scale_space = lapacian_gaussian(image)\n",
    "    for i in range(N):\n",
    "        scale_space[:,:, i] = non_max_suppression(scale_space[:,:, i])\n"
   ]
  },
  {
   "cell_type": "code",
   "execution_count": null,
   "metadata": {},
   "outputs": [],
   "source": []
  },
  {
   "cell_type": "code",
   "execution_count": 8,
   "metadata": {},
   "outputs": [],
   "source": [
    "\n",
    "\n",
    "\n",
    "\n",
    "\n",
    "# filtering the image (two implementations)\n",
    "# one that increases filter size, and one that downsamples the image\n",
    "# For timing, use time.time()\n",
    "\n",
    "\n",
    "\n",
    "# nonmaximum suppression in scale space\n",
    "# you may find functions scipy.ndimage.filters.rank_filter or scipy.ndimage.filters.generic_filter useful\n",
    "\n",
    "\n",
    "\n",
    "# To display the detected regions as circle\n",
    "from matplotlib.patches import Circle\n",
    "def show_all_circles(image, cx, cy, rad, color='r'):\n",
    "    \"\"\"\n",
    "    image: numpy array, representing the grayscsale image\n",
    "    cx, cy: numpy arrays or lists, centers of the detected blobs\n",
    "    rad: numpy array or list, radius of the detected blobs\n",
    "    \"\"\"\n",
    "    fig, ax = plt.subplots()\n",
    "    ax.set_aspect('equal')\n",
    "    ax.imshow(image, cmap='gray')\n",
    "    for x, y, r in zip(cx, cy, rad):\n",
    "        circ = Circle((x, y), r, color=color, fill=False)\n",
    "        ax.add_patch(circ)\n",
    "\n",
    "    plt.title('%i circles' % len(cx))\n",
    "    plt.show()"
   ]
  }
 ],
 "metadata": {
  "kernelspec": {
   "display_name": "CS543",
   "language": "python",
   "name": "python3"
  },
  "language_info": {
   "codemirror_mode": {
    "name": "ipython",
    "version": 3
   },
   "file_extension": ".py",
   "mimetype": "text/x-python",
   "name": "python",
   "nbconvert_exporter": "python",
   "pygments_lexer": "ipython3",
   "version": "3.12.3"
  }
 },
 "nbformat": 4,
 "nbformat_minor": 2
}
