{
 "cells": [
  {
   "cell_type": "markdown",
   "metadata": {},
   "source": [
    "# Assignment 2: Scale-Space Blob Detection"
   ]
  },
  {
   "cell_type": "markdown",
   "metadata": {},
   "source": [
    "### The goal of this assignment is to implement a Laplacian blob detector"
   ]
  },
  {
   "cell_type": "markdown",
   "metadata": {},
   "source": [
    "Noel Mrowiec\n",
    "10/1/2024\n",
    "mrowiec3"
   ]
  },
  {
   "cell_type": "code",
   "execution_count": 7,
   "metadata": {},
   "outputs": [],
   "source": [
    "# Libraries you will find useful\n",
    "import numpy as np\n",
    "import scipy \n",
    "import skimage\n",
    "import matplotlib.pyplot as plt\n",
    "import os\n",
    "from PIL import Image, ImageOps "
   ]
  },
  {
   "cell_type": "code",
   "execution_count": null,
   "metadata": {},
   "outputs": [],
   "source": [
    "# Function to globally normalize a 2D array to the range [0, 1] \n",
    "def normalize(data):\n",
    "    return (data - data.min()) / (data.max() - data.min())"
   ]
  },
  {
   "cell_type": "code",
   "execution_count": 15,
   "metadata": {},
   "outputs": [
    {
     "name": "stdout",
     "output_type": "stream",
     "text": [
      "float64\n",
      "float64\n",
      "float64\n",
      "float64\n",
      "Loaded 4 images\n"
     ]
    }
   ],
   "source": [
    "\n",
    "# load each image \n",
    "dir_path = \"images/\"\n",
    "images = []     #color images\n",
    "filenames = []\n",
    "for filename in os.listdir(dir_path):\n",
    "    if filename.endswith('.jpg'):\n",
    "        filenames.append(filename)\n",
    "        img_path = os.path.join(dir_path, filename)\n",
    "        img = Image.open(img_path)\n",
    "        #img.show()  # This will display the image\n",
    "        \n",
    "        # convert images to grayscale\n",
    "        img_gs = ImageOps.grayscale(img) \n",
    "        #img_gs.show()\n",
    "        img_gs = np.array(img_gs).astype(float)\n",
    "        print(img_gs.dtype)\n",
    "        images.append(img_gs)\n",
    "\n",
    "print(f\"Loaded {len(images)} images\")"
   ]
  },
  {
   "cell_type": "code",
   "execution_count": null,
   "metadata": {},
   "outputs": [],
   "source": []
  },
  {
   "cell_type": "code",
   "execution_count": null,
   "metadata": {},
   "outputs": [],
   "source": [
    "\n",
    "\n",
    "\n",
    "\n",
    "\n",
    "\n",
    "# rescale the intensities to between 0 and 1 (simply dividing by 255 should do the trick)\n",
    "\n",
    "\n",
    "\n",
    "# for applying the Laplacian filter\n",
    "from scipy.ndimage.filters import gaussian_laplace\n",
    "\n",
    "\n",
    "\n",
    "# filtering the image (two implementations)\n",
    "# one that increases filter size, and one that downsamples the image\n",
    "# For timing, use time.time()\n",
    "\n",
    "\n",
    "\n",
    "# nonmaximum suppression in scale space\n",
    "# you may find functions scipy.ndimage.filters.rank_filter or scipy.ndimage.filters.generic_filter useful\n",
    "\n",
    "\n",
    "\n",
    "# To display the detected regions as circle\n",
    "from matplotlib.patches import Circle\n",
    "def show_all_circles(image, cx, cy, rad, color='r'):\n",
    "    \"\"\"\n",
    "    image: numpy array, representing the grayscsale image\n",
    "    cx, cy: numpy arrays or lists, centers of the detected blobs\n",
    "    rad: numpy array or list, radius of the detected blobs\n",
    "    \"\"\"\n",
    "    fig, ax = plt.subplots()\n",
    "    ax.set_aspect('equal')\n",
    "    ax.imshow(image, cmap='gray')\n",
    "    for x, y, r in zip(cx, cy, rad):\n",
    "        circ = Circle((x, y), r, color=color, fill=False)\n",
    "        ax.add_patch(circ)\n",
    "\n",
    "    plt.title('%i circles' % len(cx))\n",
    "    plt.show()"
   ]
  }
 ],
 "metadata": {
  "kernelspec": {
   "display_name": "CS543",
   "language": "python",
   "name": "python3"
  },
  "language_info": {
   "codemirror_mode": {
    "name": "ipython",
    "version": 3
   },
   "file_extension": ".py",
   "mimetype": "text/x-python",
   "name": "python",
   "nbconvert_exporter": "python",
   "pygments_lexer": "ipython3",
   "version": "3.12.3"
  }
 },
 "nbformat": 4,
 "nbformat_minor": 2
}
